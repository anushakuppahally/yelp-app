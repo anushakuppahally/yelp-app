{
 "cells": [
  {
   "cell_type": "code",
   "execution_count": 69,
   "metadata": {
    "collapsed": true
   },
   "outputs": [],
   "source": [
    "import spacy\n",
    "import eng_spacysentiment\n",
    "import pandas as pd\n",
    "import os\n",
    "from pathlib import Path"
   ]
  },
  {
   "cell_type": "code",
   "execution_count": 2,
   "outputs": [],
   "source": [
    "nlp = eng_spacysentiment.load()"
   ],
   "metadata": {
    "collapsed": false
   }
  },
  {
   "cell_type": "code",
   "execution_count": 3,
   "outputs": [],
   "source": [
    "yelp_df = pd.read_csv(\"/Users/Anusha/PycharmProjects/yelp-app/data/yelp_df.csv\")"
   ],
   "metadata": {
    "collapsed": false
   }
  },
  {
   "cell_type": "code",
   "execution_count": 12,
   "outputs": [
    {
     "data": {
      "text/plain": "0.0050465078093111515"
     },
     "execution_count": 12,
     "metadata": {},
     "output_type": "execute_result"
    }
   ],
   "source": [
    "#yelp_df['sentiment'] = yelp_df['text'].apply(nlp)\n",
    "#yelp_df['text'][1]\n",
    "nlp(yelp_df['text'][1]).cats['positive']"
   ],
   "metadata": {
    "collapsed": false
   }
  },
  {
   "cell_type": "code",
   "execution_count": null,
   "outputs": [],
   "source": [
    "yelp_df['pos_sentiment'] = ''\n",
    "for i in range(len(yelp_df)):\n",
    "    yelp_df['pos_sentiment'][i] = nlp(yelp_df['text'][i]).cats['positive']"
   ],
   "metadata": {
    "collapsed": false,
    "pycharm": {
     "is_executing": true
    }
   }
  },
  {
   "cell_type": "code",
   "execution_count": 43,
   "outputs": [
    {
     "data": {
      "text/plain": "   Unnamed: 0             business_id                   name state  stars  \\\n0           0  _C7QiQQc47AOEv4PE3Kong     Commander's Palace    LA    4.5   \n1           1  zbTpaCtmH51gvL_L5X0nDw              HomeGoods    FL    4.0   \n2           2  6OTCxq9JQDRNwakXI9k3HQ             Thai Basil    FL    4.0   \n3           3  e11up5A7bSdtcaGlxMwKQw  Enterprise Rent-A-Car    NJ    3.0   \n4           4  -xaY1TlMf20Ol9QLcDSU6Q          French Market    LA    3.5   \n\n                                          categories  \\\n0  French, Restaurants, Cocktail Bars, Nightlife,...   \n1  Shopping, Home & Garden, Furniture Stores, Fas...   \n2                                  Restaurants, Thai   \n3                        Hotels & Travel, Car Rental   \n4  Farmers Market, Specialty Food, Shopping Cente...   \n\n                                                text  funny  cool  useful  \\\n0  Came in for a special event on a Monday night....      4     3       1   \n1  The furnishings are all made in China and kind...      6     4       1   \n2  IGNORANT STAFF SEEMED NICE\\nRepeat - I said \"N...      2     2       2   \n3  The car was not available for pick up and when...      1     2       2   \n4  The French Market is an old outdoor marketplac...      2     1       3   \n\n  pos_sentiment  \n0      0.773961  \n1      0.005047  \n2      0.964604  \n3           0.0  \n4      0.885489  ",
      "text/html": "<div>\n<style scoped>\n    .dataframe tbody tr th:only-of-type {\n        vertical-align: middle;\n    }\n\n    .dataframe tbody tr th {\n        vertical-align: top;\n    }\n\n    .dataframe thead th {\n        text-align: right;\n    }\n</style>\n<table border=\"1\" class=\"dataframe\">\n  <thead>\n    <tr style=\"text-align: right;\">\n      <th></th>\n      <th>Unnamed: 0</th>\n      <th>business_id</th>\n      <th>name</th>\n      <th>state</th>\n      <th>stars</th>\n      <th>categories</th>\n      <th>text</th>\n      <th>funny</th>\n      <th>cool</th>\n      <th>useful</th>\n      <th>pos_sentiment</th>\n    </tr>\n  </thead>\n  <tbody>\n    <tr>\n      <th>0</th>\n      <td>0</td>\n      <td>_C7QiQQc47AOEv4PE3Kong</td>\n      <td>Commander's Palace</td>\n      <td>LA</td>\n      <td>4.5</td>\n      <td>French, Restaurants, Cocktail Bars, Nightlife,...</td>\n      <td>Came in for a special event on a Monday night....</td>\n      <td>4</td>\n      <td>3</td>\n      <td>1</td>\n      <td>0.773961</td>\n    </tr>\n    <tr>\n      <th>1</th>\n      <td>1</td>\n      <td>zbTpaCtmH51gvL_L5X0nDw</td>\n      <td>HomeGoods</td>\n      <td>FL</td>\n      <td>4.0</td>\n      <td>Shopping, Home &amp; Garden, Furniture Stores, Fas...</td>\n      <td>The furnishings are all made in China and kind...</td>\n      <td>6</td>\n      <td>4</td>\n      <td>1</td>\n      <td>0.005047</td>\n    </tr>\n    <tr>\n      <th>2</th>\n      <td>2</td>\n      <td>6OTCxq9JQDRNwakXI9k3HQ</td>\n      <td>Thai Basil</td>\n      <td>FL</td>\n      <td>4.0</td>\n      <td>Restaurants, Thai</td>\n      <td>IGNORANT STAFF SEEMED NICE\\nRepeat - I said \"N...</td>\n      <td>2</td>\n      <td>2</td>\n      <td>2</td>\n      <td>0.964604</td>\n    </tr>\n    <tr>\n      <th>3</th>\n      <td>3</td>\n      <td>e11up5A7bSdtcaGlxMwKQw</td>\n      <td>Enterprise Rent-A-Car</td>\n      <td>NJ</td>\n      <td>3.0</td>\n      <td>Hotels &amp; Travel, Car Rental</td>\n      <td>The car was not available for pick up and when...</td>\n      <td>1</td>\n      <td>2</td>\n      <td>2</td>\n      <td>0.0</td>\n    </tr>\n    <tr>\n      <th>4</th>\n      <td>4</td>\n      <td>-xaY1TlMf20Ol9QLcDSU6Q</td>\n      <td>French Market</td>\n      <td>LA</td>\n      <td>3.5</td>\n      <td>Farmers Market, Specialty Food, Shopping Cente...</td>\n      <td>The French Market is an old outdoor marketplac...</td>\n      <td>2</td>\n      <td>1</td>\n      <td>3</td>\n      <td>0.885489</td>\n    </tr>\n  </tbody>\n</table>\n</div>"
     },
     "execution_count": 43,
     "metadata": {},
     "output_type": "execute_result"
    }
   ],
   "source": [
    "yelp_df.head()"
   ],
   "metadata": {
    "collapsed": false
   }
  },
  {
   "cell_type": "code",
   "execution_count": 47,
   "outputs": [
    {
     "data": {
      "text/plain": "0"
     },
     "execution_count": 47,
     "metadata": {},
     "output_type": "execute_result"
    }
   ],
   "source": [
    "yelp_df['pos_sentiment'].isna().sum().sum()"
   ],
   "metadata": {
    "collapsed": false
   }
  },
  {
   "cell_type": "code",
   "execution_count": 58,
   "outputs": [],
   "source": [
    "yelp_df['pos_sentiment']=pd.to_numeric(yelp_df['pos_sentiment'])"
   ],
   "metadata": {
    "collapsed": false
   }
  },
  {
   "cell_type": "code",
   "execution_count": 62,
   "outputs": [
    {
     "data": {
      "text/plain": "   Unnamed: 0             business_id                   name state  stars  \\\n0           0  _C7QiQQc47AOEv4PE3Kong     Commander's Palace    LA    4.5   \n1           1  zbTpaCtmH51gvL_L5X0nDw              HomeGoods    FL    4.0   \n2           2  6OTCxq9JQDRNwakXI9k3HQ             Thai Basil    FL    4.0   \n3           3  e11up5A7bSdtcaGlxMwKQw  Enterprise Rent-A-Car    NJ    3.0   \n4           4  -xaY1TlMf20Ol9QLcDSU6Q          French Market    LA    3.5   \n\n                                          categories  \\\n0  French, Restaurants, Cocktail Bars, Nightlife,...   \n1  Shopping, Home & Garden, Furniture Stores, Fas...   \n2                                  Restaurants, Thai   \n3                        Hotels & Travel, Car Rental   \n4  Farmers Market, Specialty Food, Shopping Cente...   \n\n                                                text  funny  cool  useful  \\\n0  Came in for a special event on a Monday night....      4     3       1   \n1  The furnishings are all made in China and kind...      6     4       1   \n2  IGNORANT STAFF SEEMED NICE\\nRepeat - I said \"N...      2     2       2   \n3  The car was not available for pick up and when...      1     2       2   \n4  The French Market is an old outdoor marketplac...      2     1       3   \n\n   pos_sentiment  \n0   7.739615e-01  \n1   5.046508e-03  \n2   9.646042e-01  \n3   7.268339e-08  \n4   8.854889e-01  ",
      "text/html": "<div>\n<style scoped>\n    .dataframe tbody tr th:only-of-type {\n        vertical-align: middle;\n    }\n\n    .dataframe tbody tr th {\n        vertical-align: top;\n    }\n\n    .dataframe thead th {\n        text-align: right;\n    }\n</style>\n<table border=\"1\" class=\"dataframe\">\n  <thead>\n    <tr style=\"text-align: right;\">\n      <th></th>\n      <th>Unnamed: 0</th>\n      <th>business_id</th>\n      <th>name</th>\n      <th>state</th>\n      <th>stars</th>\n      <th>categories</th>\n      <th>text</th>\n      <th>funny</th>\n      <th>cool</th>\n      <th>useful</th>\n      <th>pos_sentiment</th>\n    </tr>\n  </thead>\n  <tbody>\n    <tr>\n      <th>0</th>\n      <td>0</td>\n      <td>_C7QiQQc47AOEv4PE3Kong</td>\n      <td>Commander's Palace</td>\n      <td>LA</td>\n      <td>4.5</td>\n      <td>French, Restaurants, Cocktail Bars, Nightlife,...</td>\n      <td>Came in for a special event on a Monday night....</td>\n      <td>4</td>\n      <td>3</td>\n      <td>1</td>\n      <td>7.739615e-01</td>\n    </tr>\n    <tr>\n      <th>1</th>\n      <td>1</td>\n      <td>zbTpaCtmH51gvL_L5X0nDw</td>\n      <td>HomeGoods</td>\n      <td>FL</td>\n      <td>4.0</td>\n      <td>Shopping, Home &amp; Garden, Furniture Stores, Fas...</td>\n      <td>The furnishings are all made in China and kind...</td>\n      <td>6</td>\n      <td>4</td>\n      <td>1</td>\n      <td>5.046508e-03</td>\n    </tr>\n    <tr>\n      <th>2</th>\n      <td>2</td>\n      <td>6OTCxq9JQDRNwakXI9k3HQ</td>\n      <td>Thai Basil</td>\n      <td>FL</td>\n      <td>4.0</td>\n      <td>Restaurants, Thai</td>\n      <td>IGNORANT STAFF SEEMED NICE\\nRepeat - I said \"N...</td>\n      <td>2</td>\n      <td>2</td>\n      <td>2</td>\n      <td>9.646042e-01</td>\n    </tr>\n    <tr>\n      <th>3</th>\n      <td>3</td>\n      <td>e11up5A7bSdtcaGlxMwKQw</td>\n      <td>Enterprise Rent-A-Car</td>\n      <td>NJ</td>\n      <td>3.0</td>\n      <td>Hotels &amp; Travel, Car Rental</td>\n      <td>The car was not available for pick up and when...</td>\n      <td>1</td>\n      <td>2</td>\n      <td>2</td>\n      <td>7.268339e-08</td>\n    </tr>\n    <tr>\n      <th>4</th>\n      <td>4</td>\n      <td>-xaY1TlMf20Ol9QLcDSU6Q</td>\n      <td>French Market</td>\n      <td>LA</td>\n      <td>3.5</td>\n      <td>Farmers Market, Specialty Food, Shopping Cente...</td>\n      <td>The French Market is an old outdoor marketplac...</td>\n      <td>2</td>\n      <td>1</td>\n      <td>3</td>\n      <td>8.854889e-01</td>\n    </tr>\n  </tbody>\n</table>\n</div>"
     },
     "execution_count": 62,
     "metadata": {},
     "output_type": "execute_result"
    }
   ],
   "source": [
    "yelp_df.head()"
   ],
   "metadata": {
    "collapsed": false
   }
  },
  {
   "cell_type": "code",
   "execution_count": 66,
   "outputs": [
    {
     "data": {
      "text/plain": "309990"
     },
     "execution_count": 66,
     "metadata": {},
     "output_type": "execute_result"
    }
   ],
   "source": [
    "len(yelp_df[yelp_df['pos_sentiment'] >= 0.8])"
   ],
   "metadata": {
    "collapsed": false
   }
  },
  {
   "cell_type": "code",
   "execution_count": 67,
   "outputs": [],
   "source": [
    "yelp_pos_filtered = yelp_df[yelp_df['pos_sentiment'] >= 0.8]"
   ],
   "metadata": {
    "collapsed": false
   }
  },
  {
   "cell_type": "code",
   "execution_count": 68,
   "outputs": [
    {
     "data": {
      "text/plain": "    Unnamed: 0             business_id                      name state  stars  \\\n2            2  6OTCxq9JQDRNwakXI9k3HQ                Thai Basil    FL    4.0   \n4            4  -xaY1TlMf20Ol9QLcDSU6Q             French Market    LA    3.5   \n21          21  EcjHDndSeQuebMMJhCGC5g                  Yangming    PA    3.5   \n22          22  5u_eZ2_GYsPtLuRwAajgzg  Birchrunville Store Cafe    PA    4.0   \n27          27  x_teiEdMOErcpAmqisUD5g                 HDTV City    AZ    4.0   \n\n                                           categories  \\\n2                                   Restaurants, Thai   \n4   Farmers Market, Specialty Food, Shopping Cente...   \n21              Chinese, Nightlife, Restaurants, Bars   \n22                French, Restaurants, Italian, Cafes   \n27  Home Services, Home Theatre Installation, Prof...   \n\n                                                 text  funny  cool  useful  \\\n2   IGNORANT STAFF SEEMED NICE\\nRepeat - I said \"N...      2     2       2   \n4   The French Market is an old outdoor marketplac...      2     1       3   \n21  Not sure how it has had the reputation it trum...      1     0       7   \n22  Beware of temperamental French chef!!! Wow. Do...      0     0       7   \n27  Two stars is for the service. Other than that ...      1     0      10   \n\n    pos_sentiment  \n2        0.964604  \n4        0.885489  \n21       0.987738  \n22       0.969046  \n27       0.852800  ",
      "text/html": "<div>\n<style scoped>\n    .dataframe tbody tr th:only-of-type {\n        vertical-align: middle;\n    }\n\n    .dataframe tbody tr th {\n        vertical-align: top;\n    }\n\n    .dataframe thead th {\n        text-align: right;\n    }\n</style>\n<table border=\"1\" class=\"dataframe\">\n  <thead>\n    <tr style=\"text-align: right;\">\n      <th></th>\n      <th>Unnamed: 0</th>\n      <th>business_id</th>\n      <th>name</th>\n      <th>state</th>\n      <th>stars</th>\n      <th>categories</th>\n      <th>text</th>\n      <th>funny</th>\n      <th>cool</th>\n      <th>useful</th>\n      <th>pos_sentiment</th>\n    </tr>\n  </thead>\n  <tbody>\n    <tr>\n      <th>2</th>\n      <td>2</td>\n      <td>6OTCxq9JQDRNwakXI9k3HQ</td>\n      <td>Thai Basil</td>\n      <td>FL</td>\n      <td>4.0</td>\n      <td>Restaurants, Thai</td>\n      <td>IGNORANT STAFF SEEMED NICE\\nRepeat - I said \"N...</td>\n      <td>2</td>\n      <td>2</td>\n      <td>2</td>\n      <td>0.964604</td>\n    </tr>\n    <tr>\n      <th>4</th>\n      <td>4</td>\n      <td>-xaY1TlMf20Ol9QLcDSU6Q</td>\n      <td>French Market</td>\n      <td>LA</td>\n      <td>3.5</td>\n      <td>Farmers Market, Specialty Food, Shopping Cente...</td>\n      <td>The French Market is an old outdoor marketplac...</td>\n      <td>2</td>\n      <td>1</td>\n      <td>3</td>\n      <td>0.885489</td>\n    </tr>\n    <tr>\n      <th>21</th>\n      <td>21</td>\n      <td>EcjHDndSeQuebMMJhCGC5g</td>\n      <td>Yangming</td>\n      <td>PA</td>\n      <td>3.5</td>\n      <td>Chinese, Nightlife, Restaurants, Bars</td>\n      <td>Not sure how it has had the reputation it trum...</td>\n      <td>1</td>\n      <td>0</td>\n      <td>7</td>\n      <td>0.987738</td>\n    </tr>\n    <tr>\n      <th>22</th>\n      <td>22</td>\n      <td>5u_eZ2_GYsPtLuRwAajgzg</td>\n      <td>Birchrunville Store Cafe</td>\n      <td>PA</td>\n      <td>4.0</td>\n      <td>French, Restaurants, Italian, Cafes</td>\n      <td>Beware of temperamental French chef!!! Wow. Do...</td>\n      <td>0</td>\n      <td>0</td>\n      <td>7</td>\n      <td>0.969046</td>\n    </tr>\n    <tr>\n      <th>27</th>\n      <td>27</td>\n      <td>x_teiEdMOErcpAmqisUD5g</td>\n      <td>HDTV City</td>\n      <td>AZ</td>\n      <td>4.0</td>\n      <td>Home Services, Home Theatre Installation, Prof...</td>\n      <td>Two stars is for the service. Other than that ...</td>\n      <td>1</td>\n      <td>0</td>\n      <td>10</td>\n      <td>0.852800</td>\n    </tr>\n  </tbody>\n</table>\n</div>"
     },
     "execution_count": 68,
     "metadata": {},
     "output_type": "execute_result"
    }
   ],
   "source": [
    "yelp_pos_filtered.head()"
   ],
   "metadata": {
    "collapsed": false
   }
  },
  {
   "cell_type": "code",
   "execution_count": 70,
   "outputs": [],
   "source": [
    "filepath = Path('/Users/Anusha/PycharmProjects/yelp-app/data/yelp_pos_filtered.csv')\n",
    "filepath.parent.mkdir(parents=True, exist_ok=True)\n",
    "yelp_pos_filtered.to_csv(filepath)"
   ],
   "metadata": {
    "collapsed": false
   }
  }
 ],
 "metadata": {
  "kernelspec": {
   "display_name": "Python 3",
   "language": "python",
   "name": "python3"
  },
  "language_info": {
   "codemirror_mode": {
    "name": "ipython",
    "version": 2
   },
   "file_extension": ".py",
   "mimetype": "text/x-python",
   "name": "python",
   "nbconvert_exporter": "python",
   "pygments_lexer": "ipython2",
   "version": "2.7.6"
  }
 },
 "nbformat": 4,
 "nbformat_minor": 0
}
