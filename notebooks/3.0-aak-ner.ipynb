{
 "cells": [
  {
   "cell_type": "code",
   "execution_count": 32,
   "metadata": {
    "collapsed": true
   },
   "outputs": [
    {
     "name": "stdout",
     "output_type": "stream",
     "text": [
      "\u001B[38;5;2m✔ Download and installation successful\u001B[0m\n",
      "You can now load the package via spacy.load('en_core_web_sm')\n",
      "\u001B[38;5;2m✔ Download and installation successful\u001B[0m\n",
      "You can now load the package via spacy.load('en_core_web_lg')\n"
     ]
    }
   ],
   "source": [
    "import pandas as pd\n",
    "import spacy\n",
    "import spacy.cli\n",
    "spacy.cli.download(\"en_core_web_sm\")\n",
    "spacy.cli.download(\"en_core_web_lg\")\n",
    "from pathlib import Path"
   ]
  },
  {
   "cell_type": "code",
   "execution_count": 10,
   "outputs": [],
   "source": [
    "#loading model\n",
    "sp_sm = spacy.load('en_core_web_sm')"
   ],
   "metadata": {
    "collapsed": false
   }
  },
  {
   "cell_type": "code",
   "execution_count": 11,
   "outputs": [],
   "source": [
    "#creating function to identify entities\n",
    "def spacy_sm_ner(document):\n",
    "  return {(ent.text.strip(), ent.label_) for ent in sp_sm(document).ents}"
   ],
   "metadata": {
    "collapsed": false
   }
  },
  {
   "cell_type": "code",
   "execution_count": 12,
   "outputs": [],
   "source": [
    "yelp_pos_filtered = pd.read_csv(\"/Users/Anusha/PycharmProjects/yelp-app/data/yelp_pos_filtered.csv\")"
   ],
   "metadata": {
    "collapsed": false
   }
  },
  {
   "cell_type": "code",
   "execution_count": 13,
   "outputs": [
    {
     "data": {
      "text/plain": "   Unnamed: 0.1  Unnamed: 0             business_id                      name  \\\n0             2           2  6OTCxq9JQDRNwakXI9k3HQ                Thai Basil   \n1             4           4  -xaY1TlMf20Ol9QLcDSU6Q             French Market   \n2            21          21  EcjHDndSeQuebMMJhCGC5g                  Yangming   \n3            22          22  5u_eZ2_GYsPtLuRwAajgzg  Birchrunville Store Cafe   \n4            27          27  x_teiEdMOErcpAmqisUD5g                 HDTV City   \n\n  state  stars                                         categories  \\\n0    FL    4.0                                  Restaurants, Thai   \n1    LA    3.5  Farmers Market, Specialty Food, Shopping Cente...   \n2    PA    3.5              Chinese, Nightlife, Restaurants, Bars   \n3    PA    4.0                French, Restaurants, Italian, Cafes   \n4    AZ    4.0  Home Services, Home Theatre Installation, Prof...   \n\n                                                text  funny  cool  useful  \\\n0  IGNORANT STAFF SEEMED NICE\\nRepeat - I said \"N...      2     2       2   \n1  The French Market is an old outdoor marketplac...      2     1       3   \n2  Not sure how it has had the reputation it trum...      1     0       7   \n3  Beware of temperamental French chef!!! Wow. Do...      0     0       7   \n4  Two stars is for the service. Other than that ...      1     0      10   \n\n   pos_sentiment  \n0       0.964604  \n1       0.885489  \n2       0.987738  \n3       0.969046  \n4       0.852800  ",
      "text/html": "<div>\n<style scoped>\n    .dataframe tbody tr th:only-of-type {\n        vertical-align: middle;\n    }\n\n    .dataframe tbody tr th {\n        vertical-align: top;\n    }\n\n    .dataframe thead th {\n        text-align: right;\n    }\n</style>\n<table border=\"1\" class=\"dataframe\">\n  <thead>\n    <tr style=\"text-align: right;\">\n      <th></th>\n      <th>Unnamed: 0.1</th>\n      <th>Unnamed: 0</th>\n      <th>business_id</th>\n      <th>name</th>\n      <th>state</th>\n      <th>stars</th>\n      <th>categories</th>\n      <th>text</th>\n      <th>funny</th>\n      <th>cool</th>\n      <th>useful</th>\n      <th>pos_sentiment</th>\n    </tr>\n  </thead>\n  <tbody>\n    <tr>\n      <th>0</th>\n      <td>2</td>\n      <td>2</td>\n      <td>6OTCxq9JQDRNwakXI9k3HQ</td>\n      <td>Thai Basil</td>\n      <td>FL</td>\n      <td>4.0</td>\n      <td>Restaurants, Thai</td>\n      <td>IGNORANT STAFF SEEMED NICE\\nRepeat - I said \"N...</td>\n      <td>2</td>\n      <td>2</td>\n      <td>2</td>\n      <td>0.964604</td>\n    </tr>\n    <tr>\n      <th>1</th>\n      <td>4</td>\n      <td>4</td>\n      <td>-xaY1TlMf20Ol9QLcDSU6Q</td>\n      <td>French Market</td>\n      <td>LA</td>\n      <td>3.5</td>\n      <td>Farmers Market, Specialty Food, Shopping Cente...</td>\n      <td>The French Market is an old outdoor marketplac...</td>\n      <td>2</td>\n      <td>1</td>\n      <td>3</td>\n      <td>0.885489</td>\n    </tr>\n    <tr>\n      <th>2</th>\n      <td>21</td>\n      <td>21</td>\n      <td>EcjHDndSeQuebMMJhCGC5g</td>\n      <td>Yangming</td>\n      <td>PA</td>\n      <td>3.5</td>\n      <td>Chinese, Nightlife, Restaurants, Bars</td>\n      <td>Not sure how it has had the reputation it trum...</td>\n      <td>1</td>\n      <td>0</td>\n      <td>7</td>\n      <td>0.987738</td>\n    </tr>\n    <tr>\n      <th>3</th>\n      <td>22</td>\n      <td>22</td>\n      <td>5u_eZ2_GYsPtLuRwAajgzg</td>\n      <td>Birchrunville Store Cafe</td>\n      <td>PA</td>\n      <td>4.0</td>\n      <td>French, Restaurants, Italian, Cafes</td>\n      <td>Beware of temperamental French chef!!! Wow. Do...</td>\n      <td>0</td>\n      <td>0</td>\n      <td>7</td>\n      <td>0.969046</td>\n    </tr>\n    <tr>\n      <th>4</th>\n      <td>27</td>\n      <td>27</td>\n      <td>x_teiEdMOErcpAmqisUD5g</td>\n      <td>HDTV City</td>\n      <td>AZ</td>\n      <td>4.0</td>\n      <td>Home Services, Home Theatre Installation, Prof...</td>\n      <td>Two stars is for the service. Other than that ...</td>\n      <td>1</td>\n      <td>0</td>\n      <td>10</td>\n      <td>0.852800</td>\n    </tr>\n  </tbody>\n</table>\n</div>"
     },
     "execution_count": 13,
     "metadata": {},
     "output_type": "execute_result"
    }
   ],
   "source": [
    "yelp_pos_filtered.head()"
   ],
   "metadata": {
    "collapsed": false
   }
  },
  {
   "cell_type": "code",
   "execution_count": 15,
   "outputs": [
    {
     "name": "stdout",
     "output_type": "stream",
     "text": [
      "IGNORANT STAFF SEEMED NICE\n",
      "Repeat - I said \"No nuts please. I'm allergic to nuts\" a couple times and had it repeated to me on the phone. But shortly after tasting all of my take-out from this place my stomach was swelling and I was huddled near the toilet for almost three hours. Mind you I can have 'peanut traces' and peanut oil and be totally fine (it takes a lot to spark my reaction)- so this was an obvious disregard of my request. Because of this ignorance my reviews are a bit biased but imagine if I was one of those people who go into a breathing shut-down upon ingesting nuts? And if they don't communicate to each other about this, what else don't they communicate on?\n",
      "\n",
      "WELL WHAT ABOUT THE FOOD\n",
      "Before my body started rejecting the food, I had tasted enough dishes. The Toasted Tortilla appetizer was unique. It seemed similar to a Philippine Lumpia with its crispiness and accompanying sweet sauce except it was quesadilla shaped. Our Chicken Panang Curry was more watery than I'd like and that created a weaker flavor. At least the Peppers and Chicken bits had a nice crisp to them and had nice colors. Finally, the Pad Thai looked delicious and had a great variety of other things besides noodles--but I was surprised and not liking all the sweetness. There was more Sugar than necessary and less of the tangy-ness that makes Pad Thai sauce.\n"
     ]
    }
   ],
   "source": [
    "#testing model\n",
    "example_text = yelp_pos_filtered['text'][0]\n",
    "print(example_text)"
   ],
   "metadata": {
    "collapsed": false
   }
  },
  {
   "cell_type": "code",
   "execution_count": 16,
   "outputs": [
    {
     "data": {
      "text/plain": "{('Chicken', 'PERSON'),\n ('Chicken Panang Curry', 'PERSON'),\n ('Lumpia', 'PERSON'),\n ('Pad Thai', 'PERSON'),\n ('Philippine', 'NORP'),\n ('Sugar', 'GPE'),\n ('almost three hours', 'TIME')}"
     },
     "execution_count": 16,
     "metadata": {},
     "output_type": "execute_result"
    }
   ],
   "source": [
    "spacy_sm_ner(example_text)\n",
    "#model is identifying food as 'PERSON'"
   ],
   "metadata": {
    "collapsed": false
   }
  },
  {
   "cell_type": "code",
   "execution_count": 18,
   "outputs": [],
   "source": [
    "sp_lg = spacy.load('en_core_web_lg')"
   ],
   "metadata": {
    "collapsed": false
   }
  },
  {
   "cell_type": "code",
   "execution_count": 22,
   "outputs": [],
   "source": [
    "#retry using large model\n",
    "\n",
    "def spacy_lg_ner(document):\n",
    "  return {(ent.text.strip(), ent.label_) for ent in sp_lg(document).ents}"
   ],
   "metadata": {
    "collapsed": false
   }
  },
  {
   "cell_type": "code",
   "execution_count": 23,
   "outputs": [
    {
     "data": {
      "text/plain": "{('Chicken', 'NORP'),\n ('Lumpia', 'PRODUCT'),\n ('Pad Thai', 'GPE'),\n ('Panang Curry', 'PERSON'),\n ('Philippine', 'NORP'),\n ('Sugar', 'PRODUCT'),\n ('almost three hours', 'TIME')}"
     },
     "execution_count": 23,
     "metadata": {},
     "output_type": "execute_result"
    }
   ],
   "source": [
    "spacy_lg_ner(example_text) #better, but some food is still classified as 'PERSON'"
   ],
   "metadata": {
    "collapsed": false
   }
  },
  {
   "cell_type": "code",
   "execution_count": null,
   "outputs": [],
   "source": [
    "yelp_pos_filtered['NER'] = ''\n",
    "for i in range(len(yelp_pos_filtered)):\n",
    "    yelp_pos_filtered['NER'][i] = spacy_lg_ner(yelp_pos_filtered['text'][i])"
   ],
   "metadata": {
    "collapsed": false
   }
  },
  {
   "cell_type": "code",
   "execution_count": 30,
   "outputs": [
    {
     "data": {
      "text/plain": "   Unnamed: 0.1  Unnamed: 0             business_id                      name  \\\n0             2           2  6OTCxq9JQDRNwakXI9k3HQ                Thai Basil   \n1             4           4  -xaY1TlMf20Ol9QLcDSU6Q             French Market   \n2            21          21  EcjHDndSeQuebMMJhCGC5g                  Yangming   \n3            22          22  5u_eZ2_GYsPtLuRwAajgzg  Birchrunville Store Cafe   \n4            27          27  x_teiEdMOErcpAmqisUD5g                 HDTV City   \n\n  state  stars                                         categories  \\\n0    FL    4.0                                  Restaurants, Thai   \n1    LA    3.5  Farmers Market, Specialty Food, Shopping Cente...   \n2    PA    3.5              Chinese, Nightlife, Restaurants, Bars   \n3    PA    4.0                French, Restaurants, Italian, Cafes   \n4    AZ    4.0  Home Services, Home Theatre Installation, Prof...   \n\n                                                text  funny  cool  useful  \\\n0  IGNORANT STAFF SEEMED NICE\\nRepeat - I said \"N...      2     2       2   \n1  The French Market is an old outdoor marketplac...      2     1       3   \n2  Not sure how it has had the reputation it trum...      1     0       7   \n3  Beware of temperamental French chef!!! Wow. Do...      0     0       7   \n4  Two stars is for the service. Other than that ...      1     0      10   \n\n   pos_sentiment                                                NER  \n0       0.964604  {(Pad Thai, GPE), (Panang Curry, PERSON), (alm...  \n1       0.885489  {(the French Quarter, EVENT), (NOLA, PERSON), ...  \n2       0.987738  {(years, DATE), (night, TIME), (the previous d...  \n3       0.969046  {(Three years ago, DATE), (4, CARDINAL), (the ...  \n4       0.852800  {(kidding???After, PERSON), (Two, CARDINAL), (...  ",
      "text/html": "<div>\n<style scoped>\n    .dataframe tbody tr th:only-of-type {\n        vertical-align: middle;\n    }\n\n    .dataframe tbody tr th {\n        vertical-align: top;\n    }\n\n    .dataframe thead th {\n        text-align: right;\n    }\n</style>\n<table border=\"1\" class=\"dataframe\">\n  <thead>\n    <tr style=\"text-align: right;\">\n      <th></th>\n      <th>Unnamed: 0.1</th>\n      <th>Unnamed: 0</th>\n      <th>business_id</th>\n      <th>name</th>\n      <th>state</th>\n      <th>stars</th>\n      <th>categories</th>\n      <th>text</th>\n      <th>funny</th>\n      <th>cool</th>\n      <th>useful</th>\n      <th>pos_sentiment</th>\n      <th>NER</th>\n    </tr>\n  </thead>\n  <tbody>\n    <tr>\n      <th>0</th>\n      <td>2</td>\n      <td>2</td>\n      <td>6OTCxq9JQDRNwakXI9k3HQ</td>\n      <td>Thai Basil</td>\n      <td>FL</td>\n      <td>4.0</td>\n      <td>Restaurants, Thai</td>\n      <td>IGNORANT STAFF SEEMED NICE\\nRepeat - I said \"N...</td>\n      <td>2</td>\n      <td>2</td>\n      <td>2</td>\n      <td>0.964604</td>\n      <td>{(Pad Thai, GPE), (Panang Curry, PERSON), (alm...</td>\n    </tr>\n    <tr>\n      <th>1</th>\n      <td>4</td>\n      <td>4</td>\n      <td>-xaY1TlMf20Ol9QLcDSU6Q</td>\n      <td>French Market</td>\n      <td>LA</td>\n      <td>3.5</td>\n      <td>Farmers Market, Specialty Food, Shopping Cente...</td>\n      <td>The French Market is an old outdoor marketplac...</td>\n      <td>2</td>\n      <td>1</td>\n      <td>3</td>\n      <td>0.885489</td>\n      <td>{(the French Quarter, EVENT), (NOLA, PERSON), ...</td>\n    </tr>\n    <tr>\n      <th>2</th>\n      <td>21</td>\n      <td>21</td>\n      <td>EcjHDndSeQuebMMJhCGC5g</td>\n      <td>Yangming</td>\n      <td>PA</td>\n      <td>3.5</td>\n      <td>Chinese, Nightlife, Restaurants, Bars</td>\n      <td>Not sure how it has had the reputation it trum...</td>\n      <td>1</td>\n      <td>0</td>\n      <td>7</td>\n      <td>0.987738</td>\n      <td>{(years, DATE), (night, TIME), (the previous d...</td>\n    </tr>\n    <tr>\n      <th>3</th>\n      <td>22</td>\n      <td>22</td>\n      <td>5u_eZ2_GYsPtLuRwAajgzg</td>\n      <td>Birchrunville Store Cafe</td>\n      <td>PA</td>\n      <td>4.0</td>\n      <td>French, Restaurants, Italian, Cafes</td>\n      <td>Beware of temperamental French chef!!! Wow. Do...</td>\n      <td>0</td>\n      <td>0</td>\n      <td>7</td>\n      <td>0.969046</td>\n      <td>{(Three years ago, DATE), (4, CARDINAL), (the ...</td>\n    </tr>\n    <tr>\n      <th>4</th>\n      <td>27</td>\n      <td>27</td>\n      <td>x_teiEdMOErcpAmqisUD5g</td>\n      <td>HDTV City</td>\n      <td>AZ</td>\n      <td>4.0</td>\n      <td>Home Services, Home Theatre Installation, Prof...</td>\n      <td>Two stars is for the service. Other than that ...</td>\n      <td>1</td>\n      <td>0</td>\n      <td>10</td>\n      <td>0.852800</td>\n      <td>{(kidding???After, PERSON), (Two, CARDINAL), (...</td>\n    </tr>\n  </tbody>\n</table>\n</div>"
     },
     "execution_count": 30,
     "metadata": {},
     "output_type": "execute_result"
    }
   ],
   "source": [
    "yelp_pos_filtered.head()"
   ],
   "metadata": {
    "collapsed": false
   }
  },
  {
   "cell_type": "code",
   "execution_count": 31,
   "outputs": [
    {
     "data": {
      "text/plain": "0"
     },
     "execution_count": 31,
     "metadata": {},
     "output_type": "execute_result"
    }
   ],
   "source": [
    "yelp_pos_filtered['NER'].isnull().sum().sum()"
   ],
   "metadata": {
    "collapsed": false
   }
  },
  {
   "cell_type": "code",
   "execution_count": 33,
   "outputs": [],
   "source": [
    "filepath = Path('/Users/Anusha/PycharmProjects/yelp-app/data/yelp_pos_filtered_ner.csv')\n",
    "filepath.parent.mkdir(parents=True, exist_ok=True)\n",
    "yelp_pos_filtered.to_csv(filepath)"
   ],
   "metadata": {
    "collapsed": false
   }
  },
  {
   "cell_type": "code",
   "execution_count": null,
   "outputs": [],
   "source": [],
   "metadata": {
    "collapsed": false
   }
  }
 ],
 "metadata": {
  "kernelspec": {
   "display_name": "Python 3",
   "language": "python",
   "name": "python3"
  },
  "language_info": {
   "codemirror_mode": {
    "name": "ipython",
    "version": 2
   },
   "file_extension": ".py",
   "mimetype": "text/x-python",
   "name": "python",
   "nbconvert_exporter": "python",
   "pygments_lexer": "ipython2",
   "version": "2.7.6"
  }
 },
 "nbformat": 4,
 "nbformat_minor": 0
}
