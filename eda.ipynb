{
 "cells": [
  {
   "cell_type": "code",
   "execution_count": 55,
   "metadata": {
    "collapsed": true
   },
   "outputs": [],
   "source": [
    "#packages\n",
    "import pandas as pd\n",
    "from google.cloud import bigquery\n",
    "from google.oauth2 import service_account"
   ]
  },
  {
   "cell_type": "code",
   "execution_count": 56,
   "outputs": [
    {
     "ename": "Forbidden",
     "evalue": "403 POST https://bigquery.googleapis.com/bigquery/v2/projects/yelp-project-374514/jobs?prettyPrint=false: Access Denied: Project yelp-project-374514: User does not have bigquery.jobs.create permission in project yelp-project-374514.\n\nLocation: None\nJob ID: ad9a583e-589e-4440-843b-5d8154d7eddf\n",
     "output_type": "error",
     "traceback": [
      "\u001B[0;31m---------------------------------------------------------------------------\u001B[0m",
      "\u001B[0;31mForbidden\u001B[0m                                 Traceback (most recent call last)",
      "\u001B[0;32m<ipython-input-56-e81a1793071d>\u001B[0m in \u001B[0;36m<module>\u001B[0;34m\u001B[0m\n\u001B[1;32m      9\u001B[0m \u001B[0;34m\u001B[0m\u001B[0m\n\u001B[1;32m     10\u001B[0m \u001B[0msql\u001B[0m \u001B[0;34m=\u001B[0m \u001B[0;34m'SELECT * FROM `yelp-project-374514`.yelp_data.yelp_filtered_data'\u001B[0m\u001B[0;34m\u001B[0m\u001B[0;34m\u001B[0m\u001B[0m\n\u001B[0;32m---> 11\u001B[0;31m \u001B[0mquery_job\u001B[0m \u001B[0;34m=\u001B[0m \u001B[0mclient\u001B[0m\u001B[0;34m.\u001B[0m\u001B[0mquery\u001B[0m\u001B[0;34m(\u001B[0m\u001B[0msql\u001B[0m\u001B[0;34m)\u001B[0m\u001B[0;34m\u001B[0m\u001B[0;34m\u001B[0m\u001B[0m\n\u001B[0m\u001B[1;32m     12\u001B[0m \u001B[0myelp_df\u001B[0m \u001B[0;34m=\u001B[0m \u001B[0mquery_job\u001B[0m\u001B[0;34m.\u001B[0m\u001B[0mto_dataframe\u001B[0m\u001B[0;34m(\u001B[0m\u001B[0;34m)\u001B[0m\u001B[0;34m\u001B[0m\u001B[0;34m\u001B[0m\u001B[0m\n",
      "\u001B[0;32m~/opt/anaconda3/lib/python3.8/site-packages/google/cloud/bigquery/client.py\u001B[0m in \u001B[0;36mquery\u001B[0;34m(self, query, job_config, job_id, job_id_prefix, location, project, retry, timeout, job_retry, api_method)\u001B[0m\n\u001B[1;32m   3379\u001B[0m             )\n\u001B[1;32m   3380\u001B[0m         \u001B[0;32melif\u001B[0m \u001B[0mapi_method\u001B[0m \u001B[0;34m==\u001B[0m \u001B[0menums\u001B[0m\u001B[0;34m.\u001B[0m\u001B[0mQueryApiMethod\u001B[0m\u001B[0;34m.\u001B[0m\u001B[0mINSERT\u001B[0m\u001B[0;34m:\u001B[0m\u001B[0;34m\u001B[0m\u001B[0;34m\u001B[0m\u001B[0m\n\u001B[0;32m-> 3381\u001B[0;31m             return _job_helpers.query_jobs_insert(\n\u001B[0m\u001B[1;32m   3382\u001B[0m                 \u001B[0mself\u001B[0m\u001B[0;34m,\u001B[0m\u001B[0;34m\u001B[0m\u001B[0;34m\u001B[0m\u001B[0m\n\u001B[1;32m   3383\u001B[0m                 \u001B[0mquery\u001B[0m\u001B[0;34m,\u001B[0m\u001B[0;34m\u001B[0m\u001B[0;34m\u001B[0m\u001B[0m\n",
      "\u001B[0;32m~/opt/anaconda3/lib/python3.8/site-packages/google/cloud/bigquery/_job_helpers.py\u001B[0m in \u001B[0;36mquery_jobs_insert\u001B[0;34m(client, query, job_config, job_id, job_id_prefix, location, project, retry, timeout, job_retry)\u001B[0m\n\u001B[1;32m    112\u001B[0m             \u001B[0;32mreturn\u001B[0m \u001B[0mquery_job\u001B[0m\u001B[0;34m\u001B[0m\u001B[0;34m\u001B[0m\u001B[0m\n\u001B[1;32m    113\u001B[0m \u001B[0;34m\u001B[0m\u001B[0m\n\u001B[0;32m--> 114\u001B[0;31m     \u001B[0mfuture\u001B[0m \u001B[0;34m=\u001B[0m \u001B[0mdo_query\u001B[0m\u001B[0;34m(\u001B[0m\u001B[0;34m)\u001B[0m\u001B[0;34m\u001B[0m\u001B[0;34m\u001B[0m\u001B[0m\n\u001B[0m\u001B[1;32m    115\u001B[0m     \u001B[0;31m# The future might be in a failed state now, but if it's\u001B[0m\u001B[0;34m\u001B[0m\u001B[0;34m\u001B[0m\u001B[0;34m\u001B[0m\u001B[0m\n\u001B[1;32m    116\u001B[0m     \u001B[0;31m# unrecoverable, we'll find out when we ask for it's result, at which\u001B[0m\u001B[0;34m\u001B[0m\u001B[0;34m\u001B[0m\u001B[0;34m\u001B[0m\u001B[0m\n",
      "\u001B[0;32m~/opt/anaconda3/lib/python3.8/site-packages/google/cloud/bigquery/_job_helpers.py\u001B[0m in \u001B[0;36mdo_query\u001B[0;34m()\u001B[0m\n\u001B[1;32m     89\u001B[0m \u001B[0;34m\u001B[0m\u001B[0m\n\u001B[1;32m     90\u001B[0m         \u001B[0;32mtry\u001B[0m\u001B[0;34m:\u001B[0m\u001B[0;34m\u001B[0m\u001B[0;34m\u001B[0m\u001B[0m\n\u001B[0;32m---> 91\u001B[0;31m             \u001B[0mquery_job\u001B[0m\u001B[0;34m.\u001B[0m\u001B[0m_begin\u001B[0m\u001B[0;34m(\u001B[0m\u001B[0mretry\u001B[0m\u001B[0;34m=\u001B[0m\u001B[0mretry\u001B[0m\u001B[0;34m,\u001B[0m \u001B[0mtimeout\u001B[0m\u001B[0;34m=\u001B[0m\u001B[0mtimeout\u001B[0m\u001B[0;34m)\u001B[0m\u001B[0;34m\u001B[0m\u001B[0;34m\u001B[0m\u001B[0m\n\u001B[0m\u001B[1;32m     92\u001B[0m         \u001B[0;32mexcept\u001B[0m \u001B[0mcore_exceptions\u001B[0m\u001B[0;34m.\u001B[0m\u001B[0mConflict\u001B[0m \u001B[0;32mas\u001B[0m \u001B[0mcreate_exc\u001B[0m\u001B[0;34m:\u001B[0m\u001B[0;34m\u001B[0m\u001B[0;34m\u001B[0m\u001B[0m\n\u001B[1;32m     93\u001B[0m             \u001B[0;31m# The thought is if someone is providing their own job IDs and they get\u001B[0m\u001B[0;34m\u001B[0m\u001B[0;34m\u001B[0m\u001B[0;34m\u001B[0m\u001B[0m\n",
      "\u001B[0;32m~/opt/anaconda3/lib/python3.8/site-packages/google/cloud/bigquery/job/query.py\u001B[0m in \u001B[0;36m_begin\u001B[0;34m(self, client, retry, timeout)\u001B[0m\n\u001B[1;32m   1296\u001B[0m \u001B[0;34m\u001B[0m\u001B[0m\n\u001B[1;32m   1297\u001B[0m         \u001B[0;32mtry\u001B[0m\u001B[0;34m:\u001B[0m\u001B[0;34m\u001B[0m\u001B[0;34m\u001B[0m\u001B[0m\n\u001B[0;32m-> 1298\u001B[0;31m             \u001B[0msuper\u001B[0m\u001B[0;34m(\u001B[0m\u001B[0mQueryJob\u001B[0m\u001B[0;34m,\u001B[0m \u001B[0mself\u001B[0m\u001B[0;34m)\u001B[0m\u001B[0;34m.\u001B[0m\u001B[0m_begin\u001B[0m\u001B[0;34m(\u001B[0m\u001B[0mclient\u001B[0m\u001B[0;34m=\u001B[0m\u001B[0mclient\u001B[0m\u001B[0;34m,\u001B[0m \u001B[0mretry\u001B[0m\u001B[0;34m=\u001B[0m\u001B[0mretry\u001B[0m\u001B[0;34m,\u001B[0m \u001B[0mtimeout\u001B[0m\u001B[0;34m=\u001B[0m\u001B[0mtimeout\u001B[0m\u001B[0;34m)\u001B[0m\u001B[0;34m\u001B[0m\u001B[0;34m\u001B[0m\u001B[0m\n\u001B[0m\u001B[1;32m   1299\u001B[0m         \u001B[0;32mexcept\u001B[0m \u001B[0mexceptions\u001B[0m\u001B[0;34m.\u001B[0m\u001B[0mGoogleAPICallError\u001B[0m \u001B[0;32mas\u001B[0m \u001B[0mexc\u001B[0m\u001B[0;34m:\u001B[0m\u001B[0;34m\u001B[0m\u001B[0;34m\u001B[0m\u001B[0m\n\u001B[1;32m   1300\u001B[0m             exc.message = _EXCEPTION_FOOTER_TEMPLATE.format(\n",
      "\u001B[0;32m~/opt/anaconda3/lib/python3.8/site-packages/google/cloud/bigquery/job/base.py\u001B[0m in \u001B[0;36m_begin\u001B[0;34m(self, client, retry, timeout)\u001B[0m\n\u001B[1;32m    508\u001B[0m         \u001B[0;31m# job has an ID.\u001B[0m\u001B[0;34m\u001B[0m\u001B[0;34m\u001B[0m\u001B[0;34m\u001B[0m\u001B[0m\n\u001B[1;32m    509\u001B[0m         \u001B[0mspan_attributes\u001B[0m \u001B[0;34m=\u001B[0m \u001B[0;34m{\u001B[0m\u001B[0;34m\"path\"\u001B[0m\u001B[0;34m:\u001B[0m \u001B[0mpath\u001B[0m\u001B[0;34m}\u001B[0m\u001B[0;34m\u001B[0m\u001B[0;34m\u001B[0m\u001B[0m\n\u001B[0;32m--> 510\u001B[0;31m         api_response = client._call_api(\n\u001B[0m\u001B[1;32m    511\u001B[0m             \u001B[0mretry\u001B[0m\u001B[0;34m,\u001B[0m\u001B[0;34m\u001B[0m\u001B[0;34m\u001B[0m\u001B[0m\n\u001B[1;32m    512\u001B[0m             \u001B[0mspan_name\u001B[0m\u001B[0;34m=\u001B[0m\u001B[0;34m\"BigQuery.job.begin\"\u001B[0m\u001B[0;34m,\u001B[0m\u001B[0;34m\u001B[0m\u001B[0;34m\u001B[0m\u001B[0m\n",
      "\u001B[0;32m~/opt/anaconda3/lib/python3.8/site-packages/google/cloud/bigquery/client.py\u001B[0m in \u001B[0;36m_call_api\u001B[0;34m(self, retry, span_name, span_attributes, job_ref, headers, **kwargs)\u001B[0m\n\u001B[1;32m    787\u001B[0m                 \u001B[0mname\u001B[0m\u001B[0;34m=\u001B[0m\u001B[0mspan_name\u001B[0m\u001B[0;34m,\u001B[0m \u001B[0mattributes\u001B[0m\u001B[0;34m=\u001B[0m\u001B[0mspan_attributes\u001B[0m\u001B[0;34m,\u001B[0m \u001B[0mclient\u001B[0m\u001B[0;34m=\u001B[0m\u001B[0mself\u001B[0m\u001B[0;34m,\u001B[0m \u001B[0mjob_ref\u001B[0m\u001B[0;34m=\u001B[0m\u001B[0mjob_ref\u001B[0m\u001B[0;34m\u001B[0m\u001B[0;34m\u001B[0m\u001B[0m\n\u001B[1;32m    788\u001B[0m             ):\n\u001B[0;32m--> 789\u001B[0;31m                 \u001B[0;32mreturn\u001B[0m \u001B[0mcall\u001B[0m\u001B[0;34m(\u001B[0m\u001B[0;34m)\u001B[0m\u001B[0;34m\u001B[0m\u001B[0;34m\u001B[0m\u001B[0m\n\u001B[0m\u001B[1;32m    790\u001B[0m \u001B[0;34m\u001B[0m\u001B[0m\n\u001B[1;32m    791\u001B[0m         \u001B[0;32mreturn\u001B[0m \u001B[0mcall\u001B[0m\u001B[0;34m(\u001B[0m\u001B[0;34m)\u001B[0m\u001B[0;34m\u001B[0m\u001B[0;34m\u001B[0m\u001B[0m\n",
      "\u001B[0;32m~/opt/anaconda3/lib/python3.8/site-packages/google/api_core/retry.py\u001B[0m in \u001B[0;36mretry_wrapped_func\u001B[0;34m(*args, **kwargs)\u001B[0m\n\u001B[1;32m    347\u001B[0m                 \u001B[0mself\u001B[0m\u001B[0;34m.\u001B[0m\u001B[0m_initial\u001B[0m\u001B[0;34m,\u001B[0m \u001B[0mself\u001B[0m\u001B[0;34m.\u001B[0m\u001B[0m_maximum\u001B[0m\u001B[0;34m,\u001B[0m \u001B[0mmultiplier\u001B[0m\u001B[0;34m=\u001B[0m\u001B[0mself\u001B[0m\u001B[0;34m.\u001B[0m\u001B[0m_multiplier\u001B[0m\u001B[0;34m\u001B[0m\u001B[0;34m\u001B[0m\u001B[0m\n\u001B[1;32m    348\u001B[0m             )\n\u001B[0;32m--> 349\u001B[0;31m             return retry_target(\n\u001B[0m\u001B[1;32m    350\u001B[0m                 \u001B[0mtarget\u001B[0m\u001B[0;34m,\u001B[0m\u001B[0;34m\u001B[0m\u001B[0;34m\u001B[0m\u001B[0m\n\u001B[1;32m    351\u001B[0m                 \u001B[0mself\u001B[0m\u001B[0;34m.\u001B[0m\u001B[0m_predicate\u001B[0m\u001B[0;34m,\u001B[0m\u001B[0;34m\u001B[0m\u001B[0;34m\u001B[0m\u001B[0m\n",
      "\u001B[0;32m~/opt/anaconda3/lib/python3.8/site-packages/google/api_core/retry.py\u001B[0m in \u001B[0;36mretry_target\u001B[0;34m(target, predicate, sleep_generator, timeout, on_error, **kwargs)\u001B[0m\n\u001B[1;32m    189\u001B[0m     \u001B[0;32mfor\u001B[0m \u001B[0msleep\u001B[0m \u001B[0;32min\u001B[0m \u001B[0msleep_generator\u001B[0m\u001B[0;34m:\u001B[0m\u001B[0;34m\u001B[0m\u001B[0;34m\u001B[0m\u001B[0m\n\u001B[1;32m    190\u001B[0m         \u001B[0;32mtry\u001B[0m\u001B[0;34m:\u001B[0m\u001B[0;34m\u001B[0m\u001B[0;34m\u001B[0m\u001B[0m\n\u001B[0;32m--> 191\u001B[0;31m             \u001B[0;32mreturn\u001B[0m \u001B[0mtarget\u001B[0m\u001B[0;34m(\u001B[0m\u001B[0;34m)\u001B[0m\u001B[0;34m\u001B[0m\u001B[0;34m\u001B[0m\u001B[0m\n\u001B[0m\u001B[1;32m    192\u001B[0m \u001B[0;34m\u001B[0m\u001B[0m\n\u001B[1;32m    193\u001B[0m         \u001B[0;31m# pylint: disable=broad-except\u001B[0m\u001B[0;34m\u001B[0m\u001B[0;34m\u001B[0m\u001B[0;34m\u001B[0m\u001B[0m\n",
      "\u001B[0;32m~/opt/anaconda3/lib/python3.8/site-packages/google/cloud/_http/__init__.py\u001B[0m in \u001B[0;36mapi_request\u001B[0;34m(self, method, path, query_params, data, content_type, headers, api_base_url, api_version, expect_json, _target_object, timeout, extra_api_info)\u001B[0m\n\u001B[1;32m    492\u001B[0m \u001B[0;34m\u001B[0m\u001B[0m\n\u001B[1;32m    493\u001B[0m         \u001B[0;32mif\u001B[0m \u001B[0;32mnot\u001B[0m \u001B[0;36m200\u001B[0m \u001B[0;34m<=\u001B[0m \u001B[0mresponse\u001B[0m\u001B[0;34m.\u001B[0m\u001B[0mstatus_code\u001B[0m \u001B[0;34m<\u001B[0m \u001B[0;36m300\u001B[0m\u001B[0;34m:\u001B[0m\u001B[0;34m\u001B[0m\u001B[0;34m\u001B[0m\u001B[0m\n\u001B[0;32m--> 494\u001B[0;31m             \u001B[0;32mraise\u001B[0m \u001B[0mexceptions\u001B[0m\u001B[0;34m.\u001B[0m\u001B[0mfrom_http_response\u001B[0m\u001B[0;34m(\u001B[0m\u001B[0mresponse\u001B[0m\u001B[0;34m)\u001B[0m\u001B[0;34m\u001B[0m\u001B[0;34m\u001B[0m\u001B[0m\n\u001B[0m\u001B[1;32m    495\u001B[0m \u001B[0;34m\u001B[0m\u001B[0m\n\u001B[1;32m    496\u001B[0m         \u001B[0;32mif\u001B[0m \u001B[0mexpect_json\u001B[0m \u001B[0;32mand\u001B[0m \u001B[0mresponse\u001B[0m\u001B[0;34m.\u001B[0m\u001B[0mcontent\u001B[0m\u001B[0;34m:\u001B[0m\u001B[0;34m\u001B[0m\u001B[0;34m\u001B[0m\u001B[0m\n",
      "\u001B[0;31mForbidden\u001B[0m: 403 POST https://bigquery.googleapis.com/bigquery/v2/projects/yelp-project-374514/jobs?prettyPrint=false: Access Denied: Project yelp-project-374514: User does not have bigquery.jobs.create permission in project yelp-project-374514.\n\nLocation: None\nJob ID: ad9a583e-589e-4440-843b-5d8154d7eddf\n"
     ]
    }
   ],
   "source": [
    "#loading\n",
    "\n",
    "\n",
    "credentials = service_account.Credentials.from_service_account_file( './yelp-project-374514-5344dbdcdd68.json', scopes=['https://www.googleapis.com/auth/cloud-platform'])\n",
    "\n",
    "project_id ='yelp-project-374514'\n",
    "\n",
    "client = bigquery.Client(credentials=credentials, project=project_id)\n",
    "\n",
    "sql = 'SELECT * FROM `yelp-project-374514`.yelp_data.yelp_filtered_data'\n",
    "query_job = client.query(sql)\n",
    "yelp_df = query_job.to_dataframe()"
   ],
   "metadata": {
    "collapsed": false
   }
  },
  {
   "cell_type": "code",
   "execution_count": null,
   "outputs": [],
   "source": [
    "yelp_df.describe()"
   ],
   "metadata": {
    "collapsed": false
   }
  }
 ],
 "metadata": {
  "kernelspec": {
   "display_name": "Python 3",
   "language": "python",
   "name": "python3"
  },
  "language_info": {
   "codemirror_mode": {
    "name": "ipython",
    "version": 2
   },
   "file_extension": ".py",
   "mimetype": "text/x-python",
   "name": "python",
   "nbconvert_exporter": "python",
   "pygments_lexer": "ipython2",
   "version": "2.7.6"
  }
 },
 "nbformat": 4,
 "nbformat_minor": 0
}
